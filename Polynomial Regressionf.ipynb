{
 "cells": [
  {
   "cell_type": "code",
   "execution_count": 1,
   "id": "3128150c-c86c-4ba7-a85f-55b2ace7f969",
   "metadata": {},
   "outputs": [],
   "source": [
    "##Packages\n",
    "import numpy as np\n",
    "import pandas as pd\n",
    "import math\n",
    "import matplotlib.pyplot as plt\n",
    "%matplotlib inline"
   ]
  },
  {
   "cell_type": "code",
   "execution_count": 2,
   "id": "0c7d3b55-f2c0-4335-a120-c2fa5647b9ef",
   "metadata": {},
   "outputs": [
    {
     "name": "stdout",
     "output_type": "stream",
     "text": [
      "data_train.shape: (50000, 4)\n"
     ]
    },
    {
     "data": {
      "text/html": [
       "<div>\n",
       "<style scoped>\n",
       "    .dataframe tbody tr th:only-of-type {\n",
       "        vertical-align: middle;\n",
       "    }\n",
       "\n",
       "    .dataframe tbody tr th {\n",
       "        vertical-align: top;\n",
       "    }\n",
       "\n",
       "    .dataframe thead th {\n",
       "        text-align: right;\n",
       "    }\n",
       "</style>\n",
       "<table border=\"1\" class=\"dataframe\">\n",
       "  <thead>\n",
       "    <tr style=\"text-align: right;\">\n",
       "      <th></th>\n",
       "      <th>target</th>\n",
       "      <th>feature 1</th>\n",
       "      <th>feature 2</th>\n",
       "      <th>feature 3</th>\n",
       "    </tr>\n",
       "  </thead>\n",
       "  <tbody>\n",
       "    <tr>\n",
       "      <th>count</th>\n",
       "      <td>5.000000e+04</td>\n",
       "      <td>50000.000000</td>\n",
       "      <td>50000.000000</td>\n",
       "      <td>50000.000000</td>\n",
       "    </tr>\n",
       "    <tr>\n",
       "      <th>mean</th>\n",
       "      <td>1.773548e+06</td>\n",
       "      <td>0.099964</td>\n",
       "      <td>0.012562</td>\n",
       "      <td>-0.205100</td>\n",
       "    </tr>\n",
       "    <tr>\n",
       "      <th>std</th>\n",
       "      <td>1.139467e+07</td>\n",
       "      <td>21.842028</td>\n",
       "      <td>4.000527</td>\n",
       "      <td>56.045907</td>\n",
       "    </tr>\n",
       "    <tr>\n",
       "      <th>min</th>\n",
       "      <td>-5.353391e+02</td>\n",
       "      <td>-102.142087</td>\n",
       "      <td>-17.236805</td>\n",
       "      <td>-251.346206</td>\n",
       "    </tr>\n",
       "    <tr>\n",
       "      <th>25%</th>\n",
       "      <td>1.366923e+02</td>\n",
       "      <td>-14.424551</td>\n",
       "      <td>-2.708389</td>\n",
       "      <td>-37.961040</td>\n",
       "    </tr>\n",
       "    <tr>\n",
       "      <th>50%</th>\n",
       "      <td>1.178718e+04</td>\n",
       "      <td>0.265138</td>\n",
       "      <td>0.026296</td>\n",
       "      <td>-0.278907</td>\n",
       "    </tr>\n",
       "    <tr>\n",
       "      <th>75%</th>\n",
       "      <td>2.812790e+05</td>\n",
       "      <td>14.773691</td>\n",
       "      <td>2.698501</td>\n",
       "      <td>37.528504</td>\n",
       "    </tr>\n",
       "    <tr>\n",
       "      <th>max</th>\n",
       "      <td>8.392773e+08</td>\n",
       "      <td>92.676100</td>\n",
       "      <td>17.647059</td>\n",
       "      <td>232.683184</td>\n",
       "    </tr>\n",
       "  </tbody>\n",
       "</table>\n",
       "</div>"
      ],
      "text/plain": [
       "             target     feature 1     feature 2     feature 3\n",
       "count  5.000000e+04  50000.000000  50000.000000  50000.000000\n",
       "mean   1.773548e+06      0.099964      0.012562     -0.205100\n",
       "std    1.139467e+07     21.842028      4.000527     56.045907\n",
       "min   -5.353391e+02   -102.142087    -17.236805   -251.346206\n",
       "25%    1.366923e+02    -14.424551     -2.708389    -37.961040\n",
       "50%    1.178718e+04      0.265138      0.026296     -0.278907\n",
       "75%    2.812790e+05     14.773691      2.698501     37.528504\n",
       "max    8.392773e+08     92.676100     17.647059    232.683184"
      ]
     },
     "execution_count": 2,
     "metadata": {},
     "output_type": "execute_result"
    }
   ],
   "source": [
    "## Reading Train Data\n",
    "df_train=pd.read_csv('Polynomialdata_train.csv')\n",
    "arr_train=df_train.to_numpy()\n",
    "print(f\"data_train.shape: {arr_train.shape}\")\n",
    "df_train.describe()"
   ]
  },
  {
   "cell_type": "code",
   "execution_count": 3,
   "id": "7501b28b-2b0e-415a-a1df-403b01003b7e",
   "metadata": {},
   "outputs": [
    {
     "name": "stdout",
     "output_type": "stream",
     "text": [
      "data_train.shape: (10000, 4)\n"
     ]
    },
    {
     "data": {
      "text/html": [
       "<div>\n",
       "<style scoped>\n",
       "    .dataframe tbody tr th:only-of-type {\n",
       "        vertical-align: middle;\n",
       "    }\n",
       "\n",
       "    .dataframe tbody tr th {\n",
       "        vertical-align: top;\n",
       "    }\n",
       "\n",
       "    .dataframe thead th {\n",
       "        text-align: right;\n",
       "    }\n",
       "</style>\n",
       "<table border=\"1\" class=\"dataframe\">\n",
       "  <thead>\n",
       "    <tr style=\"text-align: right;\">\n",
       "      <th></th>\n",
       "      <th>ID</th>\n",
       "      <th>feature 1</th>\n",
       "      <th>feature 2</th>\n",
       "      <th>feature 3</th>\n",
       "    </tr>\n",
       "  </thead>\n",
       "  <tbody>\n",
       "    <tr>\n",
       "      <th>count</th>\n",
       "      <td>10000.000000</td>\n",
       "      <td>10000.000000</td>\n",
       "      <td>10000.000000</td>\n",
       "      <td>10000.000000</td>\n",
       "    </tr>\n",
       "    <tr>\n",
       "      <th>mean</th>\n",
       "      <td>15036.703500</td>\n",
       "      <td>-0.060363</td>\n",
       "      <td>-0.028461</td>\n",
       "      <td>0.496385</td>\n",
       "    </tr>\n",
       "    <tr>\n",
       "      <th>std</th>\n",
       "      <td>2885.190645</td>\n",
       "      <td>22.076114</td>\n",
       "      <td>4.049632</td>\n",
       "      <td>56.022994</td>\n",
       "    </tr>\n",
       "    <tr>\n",
       "      <th>min</th>\n",
       "      <td>10000.000000</td>\n",
       "      <td>-93.009054</td>\n",
       "      <td>-15.162144</td>\n",
       "      <td>-185.777377</td>\n",
       "    </tr>\n",
       "    <tr>\n",
       "      <th>25%</th>\n",
       "      <td>12545.750000</td>\n",
       "      <td>-15.203528</td>\n",
       "      <td>-2.771030</td>\n",
       "      <td>-36.467849</td>\n",
       "    </tr>\n",
       "    <tr>\n",
       "      <th>50%</th>\n",
       "      <td>15040.000000</td>\n",
       "      <td>-0.098698</td>\n",
       "      <td>-0.046567</td>\n",
       "      <td>-0.205485</td>\n",
       "    </tr>\n",
       "    <tr>\n",
       "      <th>75%</th>\n",
       "      <td>17553.000000</td>\n",
       "      <td>15.032890</td>\n",
       "      <td>2.699627</td>\n",
       "      <td>38.960722</td>\n",
       "    </tr>\n",
       "    <tr>\n",
       "      <th>max</th>\n",
       "      <td>19997.000000</td>\n",
       "      <td>86.921606</td>\n",
       "      <td>15.746176</td>\n",
       "      <td>228.334371</td>\n",
       "    </tr>\n",
       "  </tbody>\n",
       "</table>\n",
       "</div>"
      ],
      "text/plain": [
       "                 ID     feature 1     feature 2     feature 3\n",
       "count  10000.000000  10000.000000  10000.000000  10000.000000\n",
       "mean   15036.703500     -0.060363     -0.028461      0.496385\n",
       "std     2885.190645     22.076114      4.049632     56.022994\n",
       "min    10000.000000    -93.009054    -15.162144   -185.777377\n",
       "25%    12545.750000    -15.203528     -2.771030    -36.467849\n",
       "50%    15040.000000     -0.098698     -0.046567     -0.205485\n",
       "75%    17553.000000     15.032890      2.699627     38.960722\n",
       "max    19997.000000     86.921606     15.746176    228.334371"
      ]
     },
     "execution_count": 3,
     "metadata": {},
     "output_type": "execute_result"
    }
   ],
   "source": [
    "## Reading test data\n",
    "df_test=pd.read_csv('Polynomialdata_test.csv')\n",
    "arr_test=df_test.to_numpy()\n",
    "print(f\"data_train.shape: {arr_test.shape}\")\n",
    "df_test.describe()"
   ]
  },
  {
   "cell_type": "code",
   "execution_count": 4,
   "id": "51092875-bc3d-407a-a027-8e9eb7ce362b",
   "metadata": {},
   "outputs": [
    {
     "name": "stdout",
     "output_type": "stream",
     "text": [
      "(50000, 3)\n",
      "[[  5.22184894   7.29511056  95.71684555]\n",
      " [ -5.10628445   4.22008546  -6.17236   ]\n",
      " [ -4.21805344  -7.57382297 -39.49388399]\n",
      " ...\n",
      " [ 29.85789417   1.42297302  75.62050543]\n",
      " [ 10.79314567   1.21597176  34.43776063]\n",
      " [ 12.17170222  -0.79875632  60.24598982]]\n",
      "(50000,)\n",
      "[4.13152828e+06 3.17297454e-01 4.67642163e+04 ... 3.83560105e+06\n",
      " 2.58031768e+04 3.46817108e+05]\n"
     ]
    }
   ],
   "source": [
    "## Forming Input and Output labels of training set\n",
    "x_train=arr_train[:,1:]\n",
    "print(x_train.shape)\n",
    "print(x_train)\n",
    "\n",
    "y_train=arr_train[:,0]\n",
    "print(y_train.shape)\n",
    "print(y_train)"
   ]
  },
  {
   "cell_type": "code",
   "execution_count": 5,
   "id": "eedd698f-ed51-4bd9-bfeb-1b1163c35a65",
   "metadata": {},
   "outputs": [
    {
     "name": "stdout",
     "output_type": "stream",
     "text": [
      "(10000, 3)\n",
      "[[ 36.24764264  -2.37270368  43.83594722]\n",
      " [  5.90377936   5.46008554 -96.14941417]\n",
      " [-37.29815674   6.869786   -14.08448749]\n",
      " ...\n",
      " [ 47.09519214  -1.97746088  39.04490212]\n",
      " [ -1.80817812  -0.69378162  57.91862776]\n",
      " [ 19.95803371   2.29451622 -16.08254613]]\n",
      "(10000,)\n",
      "[16588. 17513. 14448. ... 17741. 18381. 12054.]\n"
     ]
    }
   ],
   "source": [
    "## Forming Input and Output labels of test set\n",
    "x_test=arr_test[:,1:4]\n",
    "print(x_test.shape)\n",
    "print(x_test)\n",
    "\n",
    "y_test=arr_test[:,0]\n",
    "print(y_test.shape)\n",
    "print(y_test)"
   ]
  },
  {
   "cell_type": "code",
   "execution_count": 6,
   "id": "c0ed41a7-4b7c-46cf-9455-6b85aa8debc2",
   "metadata": {},
   "outputs": [
    {
     "name": "stdout",
     "output_type": "stream",
     "text": [
      "(50000, 3)\n",
      "[[ 0.23449913  1.82041534  1.71150597]\n",
      " [-0.23836156  1.05175271 -0.106472  ]\n",
      " [-0.19769502 -1.89636525 -0.70101777]\n",
      " ...\n",
      " [ 1.3624297   0.35255978  1.35293311]\n",
      " [ 0.48957399  0.30081577  0.61812198]\n",
      " [ 0.55268949 -0.2028049   1.07861032]]\n"
     ]
    }
   ],
   "source": [
    "## Z-score Normalisation of data\n",
    "def feature_scale_zNormal(x):\n",
    "    mean=np.mean(x,axis=0)\n",
    "    std=np.std(x,axis=0)\n",
    "    x_normal=(x-mean)/std\n",
    "    return x_normal\n",
    "x_train= feature_scale_zNormal(x_train) \n",
    "print(x_train.shape)\n",
    "print(x_train)"
   ]
  },
  {
   "cell_type": "code",
   "execution_count": 7,
   "id": "82f38d9c-65b1-49e2-b151-71497674c503",
   "metadata": {},
   "outputs": [
    {
     "name": "stdout",
     "output_type": "stream",
     "text": [
      "(50000, 56)\n",
      "[[ 1.00000000e+00  1.71150597e+00  2.92925267e+00 ...  5.17539330e-03\n",
      "   5.50472248e-03  7.09097864e-04]\n",
      " [ 1.00000000e+00 -1.06472000e-01  1.13362867e-02 ... -3.43700613e-04\n",
      "   3.39514663e-03 -7.69451268e-04]\n",
      " [ 1.00000000e+00 -7.01017772e-01  4.91425917e-01 ... -1.07080873e-03\n",
      "  -2.89670897e-03 -3.01980287e-04]\n",
      " ...\n",
      " [ 1.00000000e+00  1.35293311e+00  1.83042800e+00 ...  4.66157566e+00\n",
      "   1.21475635e+00  4.69429649e+00]\n",
      " [ 1.00000000e+00  6.18121976e-01  3.82074777e-01 ...  3.55097445e-02\n",
      "   1.72812025e-02  2.81249464e-02]\n",
      " [ 1.00000000e+00  1.07861032e+00  1.16340023e+00 ...  1.00644346e-01\n",
      "  -1.89235779e-02  5.15710546e-02]]\n"
     ]
    }
   ],
   "source": [
    "##Feature Adding so as to create the polyno,ial \n",
    "def power_function(x,k):\n",
    "    m,n=x.shape\n",
    "    if n==0 or k==0 : \n",
    "        return np.ones((m,1))\n",
    "    x_new=np.copy(x)\n",
    "    for i in range(k+1):\n",
    "        x_new=np.append(x_new,(x[:,0:1]**i)*power_function(x[:,1:],k-i),axis=1)\n",
    "    return x_new[:,n:]    \n",
    "x_train=power_function(x_train,5)\n",
    "print(x_train.shape)\n",
    "print(x_train)"
   ]
  },
  {
   "cell_type": "code",
   "execution_count": 8,
   "id": "119251f7-4da9-4332-b72a-de239b5809a5",
   "metadata": {},
   "outputs": [],
   "source": [
    "def cost(x,y,w,b):\n",
    "    s=x.shape\n",
    "    m=s[0] # number of training examples(rows)\n",
    "    cost=0\n",
    "    for i in range(m):\n",
    "        y_predicted=np.dot(x[i],w)+b\n",
    "        cost+=(y[i]-y_predicted)**2\n",
    "    cost=cost/(2*m)\n",
    "    return cost"
   ]
  },
  {
   "cell_type": "code",
   "execution_count": 9,
   "id": "5d9cc20d-271a-4d83-a57b-0daeaaae358f",
   "metadata": {},
   "outputs": [
    {
     "name": "stdout",
     "output_type": "stream",
     "text": [
      "66490664333887.2\n"
     ]
    }
   ],
   "source": [
    "## Checking cost for a specific case\n",
    "w_in=np.zeros(56)\n",
    "b_in=0\n",
    "z=cost(x_train,y_train,w_in,b_in)\n",
    "print(z)"
   ]
  },
  {
   "cell_type": "code",
   "execution_count": 10,
   "id": "22f18ee0-37bd-4a04-aaf6-c68460592339",
   "metadata": {},
   "outputs": [],
   "source": [
    "# calculating value of the gradient\n",
    "def gradient(x,y,w,b):\n",
    "    m=x.shape[0]  #number of traing examples(rows)\n",
    "    n=x.shape[1]  #number of columns(features)\n",
    "    dJ_dw=np.zeros(n)\n",
    "    dJ_db=np.zeros(1)\n",
    "    y_predicted=(np.matmul(w,x.T)).T+b\n",
    "    dJ_dw=np.matmul((y_predicted-y),x)\n",
    "    dJ_db=np.sum(y_predicted-y)\n",
    "    dJ_dw/=m\n",
    "    dJ_db/=m\n",
    "    return dJ_dw,dJ_db"
   ]
  },
  {
   "cell_type": "code",
   "execution_count": 11,
   "id": "c028b95e-6578-4369-bb24-c711f9af5795",
   "metadata": {},
   "outputs": [],
   "source": [
    "# gradient decent calculation for w and b\n",
    "def gradient_decent(x,y,w,b,alpha,iterations_n):\n",
    "    w_new=w\n",
    "    b_new=b\n",
    "    for i in range(iterations_n):\n",
    "        dj_dw,dj_db=gradient(x,y,w_new,b_new)\n",
    "        w_new=w_new-(alpha)*dj_dw\n",
    "        b_new= b_new-(alpha)*dj_db\n",
    "       \n",
    "    return w_new,b_new"
   ]
  },
  {
   "cell_type": "code",
   "execution_count": 12,
   "id": "c4422391-829f-43a0-a657-bdeae9af7282",
   "metadata": {},
   "outputs": [],
   "source": [
    "# variation in cost with iterations\n",
    "def costploting(x,y,w,b,alpha,iterations_n):\n",
    "    n=math.floor(iterations_n/10)\n",
    "    totalcost=np.zeros(n)\n",
    "    m=np.arange(n)\n",
    "    for i in range(n):\n",
    "        totalcost[i]=cost(x,y,w,b)\n",
    "        w,b=gradient_decent(x,y,w,b,alpha,iterations_n)\n",
    "        print(totalcost[i])\n",
    "    print(totalcost[n-1])\n",
    "    plt.title('COST VS NO.OF ITERATIONS')\n",
    "    plt.ylabel('COST')\n",
    "    plt.xlabel('NO.OF ITERATIONS')\n",
    "    plt.plot(m,totalcost)\n",
    "    return w,b"
   ]
  },
  {
   "cell_type": "code",
   "execution_count": 13,
   "id": "3e1e77f7-ab86-406a-999e-6c57221ef175",
   "metadata": {},
   "outputs": [],
   "source": [
    "# measuring accuracy\n",
    "def R2score(y_predicted,y_actual):\n",
    "    y_actual_mean=np.mean(y_actual)\n",
    "    a1=np.sum((y_predicted-y_actual)**2)\n",
    "    a2=np.sum((y_actual-y_actual_mean)**2)\n",
    "    accuracy=(1-(a1/a2))*100\n",
    "    return accuracy"
   ]
  },
  {
   "cell_type": "code",
   "execution_count": 14,
   "id": "6aa8460e-b445-4ad1-84f9-514fa5bcef01",
   "metadata": {},
   "outputs": [
    {
     "name": "stdout",
     "output_type": "stream",
     "text": [
      "66490664333887.2\n",
      "5846454709110.084\n",
      "4739166152205.903\n",
      "4171809090094.789\n",
      "3857054018194.727\n",
      "3671819051246.123\n",
      "3557506992040.3906\n",
      "3484394678048.8726\n",
      "3436413368004.5127\n",
      "3404346138285.2124\n",
      "3382634560873.9263\n",
      "3367792608345.059\n",
      "3357569904554.2803\n",
      "3350483588222.6104\n",
      "3345542382033.5063\n",
      "3342076875658.8384\n",
      "3339631687242.7544\n",
      "3337895301456.875\n",
      "3336653650672.7896\n",
      "3335759043759.8936\n",
      "3335109197269.395\n",
      "3334633001483.9814\n",
      "3334280816363.5244\n",
      "3334017833425.505\n",
      "3333819522093.508\n",
      "3333668498024.8613\n",
      "3333552364072.5664\n",
      "3333462218027.6226\n",
      "3333391618401.226\n",
      "3333335865480.5537\n",
      "3333291499836.4937\n",
      "3333255951146.416\n",
      "3333227291179.893\n",
      "3333204059167.162\n",
      "3333185137629.4565\n",
      "3333169663517.2847\n",
      "3333156964159.273\n",
      "3333146510730.712\n",
      "3333137884160.1147\n",
      "3333130749923.6763\n",
      "3333124839233.0273\n",
      "3333119934858.268\n",
      "3333115860339.792\n",
      "3333112471698.6904\n",
      "3333109651008.265\n",
      "3333107301363.109\n",
      "3333105342910.3975\n",
      "3333103709693.9175\n",
      "3333102347127.5596\n",
      "3333101209959.897\n",
      "3333100260625.806\n",
      "3333099467904.3374\n",
      "3333098805821.9995\n",
      "3333098252753.512\n",
      "3333097790681.423\n",
      "3333097404585.9736\n",
      "3333097081940.3584\n",
      "3333096812292.947\n",
      "3333096586920.5176\n",
      "3333096398540.495\n",
      "3333096241071.76\n",
      "3333096109435.2236\n",
      "3333095999388.125\n",
      "3333095907385.952\n",
      "3333095830466.8726\n",
      "3333095766156.1416\n",
      "3333095712385.2754\n",
      "3333095667425.693\n",
      "3333095629832.645\n",
      "3333095598398.2695\n",
      "3333095572113.1616\n",
      "3333095550133.305\n",
      "3333095531753.186\n",
      "3333095516382.979\n",
      "3333095503529.527\n",
      "3333095492780.617\n",
      "3333095483791.472\n",
      "3333095476273.879\n",
      "3333095469986.845\n",
      "3333095464728.8594\n",
      "3333095460331.423\n",
      "3333095456653.6753\n",
      "3333095453577.7554\n",
      "3333095451005.195\n",
      "3333095448853.5503\n",
      "3333095447053.9355\n",
      "3333095445548.781\n",
      "3333095444289.8145\n",
      "3333095443236.7964\n",
      "3333095442356.088\n",
      "3333095441619.367\n",
      "3333095441003.168\n",
      "3333095440487.7246\n",
      "3333095440056.642\n",
      "3333095439696.053\n",
      "3333095439394.3755\n",
      "3333095439142.1025\n",
      "3333095438930.9805\n",
      "3333095438754.4307\n",
      "3333095438606.7134\n",
      "3333095438606.7134\n",
      "94.86567807005069\n"
     ]
    },
    {
     "data": {
      "image/png": "[encoded data removed]",
      "text/plain": [
       "<Figure size 640x480 with 1 Axes>"
      ]
     },
     "metadata": {},
     "output_type": "display_data"
    }
   ],
   "source": [
    "w_in=np.zeros(56)\n",
    "b_in=0\n",
    "w_new1,b_new1=costploting(x_train,y_train,w_in,b_in,0.001,1000)\n",
    "y_pred=(np.matmul(w_new1,x_train.T)).T+b_new1\n",
    "print(R2score(y_pred,y_train))"
   ]
  },
  {
   "cell_type": "code",
   "execution_count": 15,
   "id": "1dd48bea-2549-4339-af65-f7c289730771",
   "metadata": {},
   "outputs": [
    {
     "name": "stdout",
     "output_type": "stream",
     "text": [
      "3849390091577.884\n",
      "3056066709778.2695\n",
      "3025492626315.236\n",
      "3009061750001.8506\n",
      "2999659201553.167\n",
      "2994047715634.2124\n",
      "2990576826704.917\n",
      "2988362447434.0874\n",
      "2986910644439.488\n",
      "2985935201502.756\n",
      "2985264954795.019\n",
      "2984794712319.2817\n",
      "2984458267946.788\n",
      "2984213065436.8057\n",
      "2984031226461.5957\n",
      "2983894166683.335\n",
      "2983789292385.1704\n",
      "2983707933845.328\n",
      "2983644030106.8022\n",
      "2983593279101.632\n",
      "2983552580864.8745\n",
      "2983519668095.7715\n",
      "2983492858059.797\n",
      "2983470884019.542\n",
      "2983452779364.1846\n",
      "2983437797021.942\n",
      "2983425352733.981\n",
      "2983414984628.282\n",
      "2983406324041.4175\n",
      "2983399074184.834\n",
      "2983392994341.7803\n",
      "2983387888008.656\n",
      "2983383593882.7773\n",
      "2983379978929.6904\n",
      "2983376932989.019\n",
      "2983374364532.3486\n",
      "2983372197294.6396\n",
      "2983370367576.309\n",
      "2983368822065.034\n",
      "2983367516066.0386\n",
      "2983366412055.1846\n",
      "2983365478489.953\n",
      "2983364688828.6943\n",
      "2983364020717.947\n",
      "2983363455317.4194\n",
      "2983362976737.294\n",
      "2983362571568.9287\n",
      "2983362228491.642\n",
      "2983361937943.5728\n",
      "2983361691845.3657\n",
      "2983361483367.961\n",
      "2983361306737.555\n",
      "2983361157071.006\n",
      "2983361030237.6006\n",
      "2983360922742.2847\n",
      "2983360831627.24\n",
      "2983360754388.892\n",
      "2983360688907.707\n",
      "2983360633389.078\n",
      "2983360586313.227\n",
      "2983360546392.97\n",
      "2983360512537.9683\n",
      "2983360483824.532\n",
      "2983360459470.031\n",
      "2983360438811.2163\n",
      "2983360421286.1694\n",
      "2983360406418.4775\n",
      "2983360393804.4014\n",
      "2983360383101.673\n",
      "2983360374020.1465\n",
      "2983360366313.8174\n",
      "2983360359774.006\n",
      "2983360354223.8735\n",
      "2983360349513.401\n",
      "2983360345515.348\n",
      "2983360342121.778\n",
      "2983360339241.171\n",
      "2983360336795.857\n",
      "2983360334720.006\n",
      "2983360332957.668\n",
      "2983360331461.459\n",
      "2983360330191.0825\n",
      "2983360329112.512\n",
      "2983360328196.6235\n",
      "2983360327418.926\n",
      "2983360326758.5615\n",
      "2983360326197.761\n",
      "2983360325721.5015\n",
      "2983360325317.0493\n",
      "2983360324973.547\n",
      "2983360324681.7866\n",
      "2983360324433.9927\n",
      "2983360324223.5293\n",
      "2983360324044.768\n",
      "2983360323892.901\n",
      "2983360323763.889\n",
      "2983360323654.3374\n",
      "2983360323561.242\n",
      "2983360323482.1797\n",
      "2983360323414.9946\n",
      "2983360323414.9946\n",
      "96.50524001287913\n"
     ]
    },
    {
     "data": {
      "image/png": "[encoded data removed]",
      "text/plain": [
       "<Figure size 640x480 with 1 Axes>"
      ]
     },
     "metadata": {},
     "output_type": "display_data"
    }
   ],
   "source": [
    "x_cv=x_train[40000:50000,]\n",
    "y_cv=y_train[40000:50000]\n",
    "w_new1,b_new1=costploting(x_cv,y_cv,w_new1,b_new1,0.001,1000)\n",
    "y_predcv=(np.matmul(w_new1,x_cv.T)).T+b_new1\n",
    "print(R2score(y_predcv,y_cv))"
   ]
  },
  {
   "cell_type": "code",
   "execution_count": 16,
   "id": "47eb6d75-9487-4beb-968c-2958779a1477",
   "metadata": {},
   "outputs": [
    {
     "name": "stdout",
     "output_type": "stream",
     "text": [
      "96.50524001287913\n"
     ]
    }
   ],
   "source": [
    "print(R2score(y_predcv,y_cv))"
   ]
  },
  {
   "cell_type": "code",
   "execution_count": 17,
   "id": "05fdff13-67c6-481e-859f-6fd10e7f8f5d",
   "metadata": {},
   "outputs": [
    {
     "data": {
      "image/png": "[encoded data removed]",
      "text/plain": [
       "<Figure size 640x480 with 1 Axes>"
      ]
     },
     "metadata": {},
     "output_type": "display_data"
    }
   ],
   "source": [
    "plt.plot(x_cv, y_cv, marker='o', color='g')\n",
    "plt.xlabel('X-axis Label')\n",
    "plt.ylabel('Y-axis Label')\n",
    "plt.grid(True)\n",
    "plt.show()"
   ]
  },
  {
   "cell_type": "code",
   "execution_count": 18,
   "id": "a7b0f395-6df2-40a3-915f-03986e86bfba",
   "metadata": {},
   "outputs": [
    {
     "data": {
      "image/png": "[encoded data removed]",
      "text/plain": [
       "<Figure size 640x480 with 1 Axes>"
      ]
     },
     "metadata": {},
     "output_type": "display_data"
    }
   ],
   "source": [
    "plt.plot(x_cv, y_predcv, marker='o', color='g')\n",
    "plt.xlabel('X-axis Label')\n",
    "plt.ylabel('Y-axis Label')\n",
    "plt.grid(True)\n",
    "plt.show()"
   ]
  },
  {
   "cell_type": "code",
   "execution_count": 19,
   "id": "0f784464-d7bc-4aaa-b110-4aa5262442c6",
   "metadata": {},
   "outputs": [
    {
     "name": "stdout",
     "output_type": "stream",
     "text": [
      "(10000, 56)\n",
      "[[ 1.00000000e+00  7.73641787e-01  5.98521614e-01 ...  5.66168658e+00\n",
      "  -4.23657170e+00  1.20366985e+01]\n",
      " [ 1.00000000e+00 -1.72519578e+00  2.97630047e+00 ... -9.19235250e-03\n",
      "   7.22190533e-03  1.43957851e-03]\n",
      " [ 1.00000000e+00 -2.60278879e-01  6.77450948e-02 ... -2.10751679e+00\n",
      "   1.37935803e+01 -1.36588817e+01]\n",
      " ...\n",
      " [ 1.00000000e+00  6.88118248e-01  4.73506723e-01 ...  1.43281742e+01\n",
      "  -1.00217985e+01  4.44794822e+01]\n",
      " [ 1.00000000e+00  1.02502758e+00  1.05068154e+00 ...  4.02822812e-05\n",
      "  -6.45677199e-06 -3.11152383e-06]\n",
      " [ 1.00000000e+00 -2.95945637e-01  8.75838198e-02 ... -2.00136098e-01\n",
      "   3.87940054e-01  6.13256073e-01]]\n"
     ]
    }
   ],
   "source": [
    "x_test=feature_scale_zNormal(x_test) \n",
    "x_test=power_function(x_test,5)\n",
    "print(x_test.shape)\n",
    "print(x_test)"
   ]
  },
  {
   "cell_type": "code",
   "execution_count": 20,
   "id": "2af4e72d-d10b-4856-b9e3-2d173411d648",
   "metadata": {},
   "outputs": [
    {
     "name": "stdout",
     "output_type": "stream",
     "text": [
      "Array has been saved to Polynomial_Predicted.csv\n"
     ]
    }
   ],
   "source": [
    "y_pred=(np.matmul(w_new1,x_test.T)).T+b_new1\n",
    "csv_file_path = 'Polynomial_Predicted.csv'\n",
    "np.savetxt(csv_file_path, y_pred, delimiter=',')\n",
    "print(f\"Array has been saved to {csv_file_path}\")"
   ]
  }
 ],
 "metadata": {
  "kernelspec": {
   "display_name": "Python 3 (ipykernel)",
   "language": "python",
   "name": "python3"
  },
  "language_info": {
   "codemirror_mode": {
    "name": "ipython",
    "version": 3
   },
   "file_extension": ".py",
   "mimetype": "text/x-python",
   "name": "python",
   "nbconvert_exporter": "python",
   "pygments_lexer": "ipython3",
   "version": "3.12.0"
  }
 },
 "nbformat": 4,
 "nbformat_minor": 5
}
