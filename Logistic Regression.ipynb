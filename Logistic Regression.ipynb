{
 "cells": [
  {
   "cell_type": "code",
   "execution_count": 5,
   "id": "c916ee14-9a94-4829-b30e-459275e93089",
   "metadata": {},
   "outputs": [],
   "source": [
    "#Packages\n",
    "import numpy as np\n",
    "import pandas as pd\n",
    "import matplotlib.pyplot as plt \n",
    "%matplotlib inline"
   ]
  },
  {
   "cell_type": "code",
   "execution_count": 6,
   "id": "1fb9df7c-f586-43ad-9826-a9480fc8d5a2",
   "metadata": {},
   "outputs": [
    {
     "name": "stdout",
     "output_type": "stream",
     "text": [
      "data_train.shape: (30000, 785)\n"
     ]
    },
    {
     "data": {
      "text/html": [
       "<div>\n",
       "<style scoped>\n",
       "    .dataframe tbody tr th:only-of-type {\n",
       "        vertical-align: middle;\n",
       "    }\n",
       "\n",
       "    .dataframe tbody tr th {\n",
       "        vertical-align: top;\n",
       "    }\n",
       "\n",
       "    .dataframe thead th {\n",
       "        text-align: right;\n",
       "    }\n",
       "</style>\n",
       "<table border=\"1\" class=\"dataframe\">\n",
       "  <thead>\n",
       "    <tr style=\"text-align: right;\">\n",
       "      <th></th>\n",
       "      <th>label</th>\n",
       "      <th>pixel0</th>\n",
       "      <th>pixel1</th>\n",
       "      <th>pixel2</th>\n",
       "      <th>pixel3</th>\n",
       "      <th>pixel4</th>\n",
       "      <th>pixel5</th>\n",
       "      <th>pixel6</th>\n",
       "      <th>pixel7</th>\n",
       "      <th>pixel8</th>\n",
       "      <th>...</th>\n",
       "      <th>pixel774</th>\n",
       "      <th>pixel775</th>\n",
       "      <th>pixel776</th>\n",
       "      <th>pixel777</th>\n",
       "      <th>pixel778</th>\n",
       "      <th>pixel779</th>\n",
       "      <th>pixel780</th>\n",
       "      <th>pixel781</th>\n",
       "      <th>pixel782</th>\n",
       "      <th>pixel783</th>\n",
       "    </tr>\n",
       "  </thead>\n",
       "  <tbody>\n",
       "    <tr>\n",
       "      <th>count</th>\n",
       "      <td>30000.000000</td>\n",
       "      <td>30000.0</td>\n",
       "      <td>30000.0</td>\n",
       "      <td>30000.0</td>\n",
       "      <td>30000.0</td>\n",
       "      <td>30000.0</td>\n",
       "      <td>30000.0</td>\n",
       "      <td>30000.000000</td>\n",
       "      <td>30000.000000</td>\n",
       "      <td>30000.000000</td>\n",
       "      <td>...</td>\n",
       "      <td>30000.000000</td>\n",
       "      <td>30000.000000</td>\n",
       "      <td>30000.00000</td>\n",
       "      <td>30000.000000</td>\n",
       "      <td>30000.000000</td>\n",
       "      <td>30000.000000</td>\n",
       "      <td>30000.000000</td>\n",
       "      <td>30000.0</td>\n",
       "      <td>30000.0</td>\n",
       "      <td>30000.0</td>\n",
       "    </tr>\n",
       "    <tr>\n",
       "      <th>mean</th>\n",
       "      <td>4.498500</td>\n",
       "      <td>0.0</td>\n",
       "      <td>0.0</td>\n",
       "      <td>0.0</td>\n",
       "      <td>0.0</td>\n",
       "      <td>0.0</td>\n",
       "      <td>0.0</td>\n",
       "      <td>0.034000</td>\n",
       "      <td>0.049900</td>\n",
       "      <td>0.087733</td>\n",
       "      <td>...</td>\n",
       "      <td>0.024233</td>\n",
       "      <td>0.031767</td>\n",
       "      <td>0.03130</td>\n",
       "      <td>0.037533</td>\n",
       "      <td>0.007433</td>\n",
       "      <td>0.002767</td>\n",
       "      <td>0.007567</td>\n",
       "      <td>0.0</td>\n",
       "      <td>0.0</td>\n",
       "      <td>0.0</td>\n",
       "    </tr>\n",
       "    <tr>\n",
       "      <th>std</th>\n",
       "      <td>2.860875</td>\n",
       "      <td>0.0</td>\n",
       "      <td>0.0</td>\n",
       "      <td>0.0</td>\n",
       "      <td>0.0</td>\n",
       "      <td>0.0</td>\n",
       "      <td>0.0</td>\n",
       "      <td>2.944339</td>\n",
       "      <td>2.909964</td>\n",
       "      <td>4.445233</td>\n",
       "      <td>...</td>\n",
       "      <td>1.936553</td>\n",
       "      <td>2.765576</td>\n",
       "      <td>2.07814</td>\n",
       "      <td>2.465453</td>\n",
       "      <td>1.287491</td>\n",
       "      <td>0.479201</td>\n",
       "      <td>1.310585</td>\n",
       "      <td>0.0</td>\n",
       "      <td>0.0</td>\n",
       "      <td>0.0</td>\n",
       "    </tr>\n",
       "    <tr>\n",
       "      <th>min</th>\n",
       "      <td>0.000000</td>\n",
       "      <td>0.0</td>\n",
       "      <td>0.0</td>\n",
       "      <td>0.0</td>\n",
       "      <td>0.0</td>\n",
       "      <td>0.0</td>\n",
       "      <td>0.0</td>\n",
       "      <td>0.000000</td>\n",
       "      <td>0.000000</td>\n",
       "      <td>0.000000</td>\n",
       "      <td>...</td>\n",
       "      <td>0.000000</td>\n",
       "      <td>0.000000</td>\n",
       "      <td>0.00000</td>\n",
       "      <td>0.000000</td>\n",
       "      <td>0.000000</td>\n",
       "      <td>0.000000</td>\n",
       "      <td>0.000000</td>\n",
       "      <td>0.0</td>\n",
       "      <td>0.0</td>\n",
       "      <td>0.0</td>\n",
       "    </tr>\n",
       "    <tr>\n",
       "      <th>25%</th>\n",
       "      <td>2.000000</td>\n",
       "      <td>0.0</td>\n",
       "      <td>0.0</td>\n",
       "      <td>0.0</td>\n",
       "      <td>0.0</td>\n",
       "      <td>0.0</td>\n",
       "      <td>0.0</td>\n",
       "      <td>0.000000</td>\n",
       "      <td>0.000000</td>\n",
       "      <td>0.000000</td>\n",
       "      <td>...</td>\n",
       "      <td>0.000000</td>\n",
       "      <td>0.000000</td>\n",
       "      <td>0.00000</td>\n",
       "      <td>0.000000</td>\n",
       "      <td>0.000000</td>\n",
       "      <td>0.000000</td>\n",
       "      <td>0.000000</td>\n",
       "      <td>0.0</td>\n",
       "      <td>0.0</td>\n",
       "      <td>0.0</td>\n",
       "    </tr>\n",
       "    <tr>\n",
       "      <th>50%</th>\n",
       "      <td>4.000000</td>\n",
       "      <td>0.0</td>\n",
       "      <td>0.0</td>\n",
       "      <td>0.0</td>\n",
       "      <td>0.0</td>\n",
       "      <td>0.0</td>\n",
       "      <td>0.0</td>\n",
       "      <td>0.000000</td>\n",
       "      <td>0.000000</td>\n",
       "      <td>0.000000</td>\n",
       "      <td>...</td>\n",
       "      <td>0.000000</td>\n",
       "      <td>0.000000</td>\n",
       "      <td>0.00000</td>\n",
       "      <td>0.000000</td>\n",
       "      <td>0.000000</td>\n",
       "      <td>0.000000</td>\n",
       "      <td>0.000000</td>\n",
       "      <td>0.0</td>\n",
       "      <td>0.0</td>\n",
       "      <td>0.0</td>\n",
       "    </tr>\n",
       "    <tr>\n",
       "      <th>75%</th>\n",
       "      <td>7.000000</td>\n",
       "      <td>0.0</td>\n",
       "      <td>0.0</td>\n",
       "      <td>0.0</td>\n",
       "      <td>0.0</td>\n",
       "      <td>0.0</td>\n",
       "      <td>0.0</td>\n",
       "      <td>0.000000</td>\n",
       "      <td>0.000000</td>\n",
       "      <td>0.000000</td>\n",
       "      <td>...</td>\n",
       "      <td>0.000000</td>\n",
       "      <td>0.000000</td>\n",
       "      <td>0.00000</td>\n",
       "      <td>0.000000</td>\n",
       "      <td>0.000000</td>\n",
       "      <td>0.000000</td>\n",
       "      <td>0.000000</td>\n",
       "      <td>0.0</td>\n",
       "      <td>0.0</td>\n",
       "      <td>0.0</td>\n",
       "    </tr>\n",
       "    <tr>\n",
       "      <th>max</th>\n",
       "      <td>9.000000</td>\n",
       "      <td>0.0</td>\n",
       "      <td>0.0</td>\n",
       "      <td>0.0</td>\n",
       "      <td>0.0</td>\n",
       "      <td>0.0</td>\n",
       "      <td>0.0</td>\n",
       "      <td>255.000000</td>\n",
       "      <td>255.000000</td>\n",
       "      <td>255.000000</td>\n",
       "      <td>...</td>\n",
       "      <td>255.000000</td>\n",
       "      <td>255.000000</td>\n",
       "      <td>150.00000</td>\n",
       "      <td>170.000000</td>\n",
       "      <td>223.000000</td>\n",
       "      <td>83.000000</td>\n",
       "      <td>227.000000</td>\n",
       "      <td>0.0</td>\n",
       "      <td>0.0</td>\n",
       "      <td>0.0</td>\n",
       "    </tr>\n",
       "  </tbody>\n",
       "</table>\n",
       "<p>8 rows × 785 columns</p>\n",
       "</div>"
      ],
      "text/plain": [
       "              label   pixel0   pixel1   pixel2   pixel3   pixel4   pixel5  \\\n",
       "count  30000.000000  30000.0  30000.0  30000.0  30000.0  30000.0  30000.0   \n",
       "mean       4.498500      0.0      0.0      0.0      0.0      0.0      0.0   \n",
       "std        2.860875      0.0      0.0      0.0      0.0      0.0      0.0   \n",
       "min        0.000000      0.0      0.0      0.0      0.0      0.0      0.0   \n",
       "25%        2.000000      0.0      0.0      0.0      0.0      0.0      0.0   \n",
       "50%        4.000000      0.0      0.0      0.0      0.0      0.0      0.0   \n",
       "75%        7.000000      0.0      0.0      0.0      0.0      0.0      0.0   \n",
       "max        9.000000      0.0      0.0      0.0      0.0      0.0      0.0   \n",
       "\n",
       "             pixel6        pixel7        pixel8  ...      pixel774  \\\n",
       "count  30000.000000  30000.000000  30000.000000  ...  30000.000000   \n",
       "mean       0.034000      0.049900      0.087733  ...      0.024233   \n",
       "std        2.944339      2.909964      4.445233  ...      1.936553   \n",
       "min        0.000000      0.000000      0.000000  ...      0.000000   \n",
       "25%        0.000000      0.000000      0.000000  ...      0.000000   \n",
       "50%        0.000000      0.000000      0.000000  ...      0.000000   \n",
       "75%        0.000000      0.000000      0.000000  ...      0.000000   \n",
       "max      255.000000    255.000000    255.000000  ...    255.000000   \n",
       "\n",
       "           pixel775     pixel776      pixel777      pixel778      pixel779  \\\n",
       "count  30000.000000  30000.00000  30000.000000  30000.000000  30000.000000   \n",
       "mean       0.031767      0.03130      0.037533      0.007433      0.002767   \n",
       "std        2.765576      2.07814      2.465453      1.287491      0.479201   \n",
       "min        0.000000      0.00000      0.000000      0.000000      0.000000   \n",
       "25%        0.000000      0.00000      0.000000      0.000000      0.000000   \n",
       "50%        0.000000      0.00000      0.000000      0.000000      0.000000   \n",
       "75%        0.000000      0.00000      0.000000      0.000000      0.000000   \n",
       "max      255.000000    150.00000    170.000000    223.000000     83.000000   \n",
       "\n",
       "           pixel780  pixel781  pixel782  pixel783  \n",
       "count  30000.000000   30000.0   30000.0   30000.0  \n",
       "mean       0.007567       0.0       0.0       0.0  \n",
       "std        1.310585       0.0       0.0       0.0  \n",
       "min        0.000000       0.0       0.0       0.0  \n",
       "25%        0.000000       0.0       0.0       0.0  \n",
       "50%        0.000000       0.0       0.0       0.0  \n",
       "75%        0.000000       0.0       0.0       0.0  \n",
       "max      227.000000       0.0       0.0       0.0  \n",
       "\n",
       "[8 rows x 785 columns]"
      ]
     },
     "execution_count": 6,
     "metadata": {},
     "output_type": "execute_result"
    }
   ],
   "source": [
    "## Reading train data\n",
    "df_train=pd.read_csv('Classification_train.csv')\n",
    "arr_train=df_train.to_numpy()\n",
    "print(f\"data_train.shape: {arr_train.shape}\")\n",
    "df_train.describe()"
   ]
  },
  {
   "cell_type": "code",
   "execution_count": 7,
   "id": "0c2e3979-c835-4feb-858c-b24f6933c3da",
   "metadata": {},
   "outputs": [
    {
     "name": "stdout",
     "output_type": "stream",
     "text": [
      "data_train.shape: (10000, 785)\n"
     ]
    },
    {
     "data": {
      "text/html": [
       "<div>\n",
       "<style scoped>\n",
       "    .dataframe tbody tr th:only-of-type {\n",
       "        vertical-align: middle;\n",
       "    }\n",
       "\n",
       "    .dataframe tbody tr th {\n",
       "        vertical-align: top;\n",
       "    }\n",
       "\n",
       "    .dataframe thead th {\n",
       "        text-align: right;\n",
       "    }\n",
       "</style>\n",
       "<table border=\"1\" class=\"dataframe\">\n",
       "  <thead>\n",
       "    <tr style=\"text-align: right;\">\n",
       "      <th></th>\n",
       "      <th>ID</th>\n",
       "      <th>pixel0</th>\n",
       "      <th>pixel1</th>\n",
       "      <th>pixel2</th>\n",
       "      <th>pixel3</th>\n",
       "      <th>pixel4</th>\n",
       "      <th>pixel5</th>\n",
       "      <th>pixel6</th>\n",
       "      <th>pixel7</th>\n",
       "      <th>pixel8</th>\n",
       "      <th>...</th>\n",
       "      <th>pixel774</th>\n",
       "      <th>pixel775</th>\n",
       "      <th>pixel776</th>\n",
       "      <th>pixel777</th>\n",
       "      <th>pixel778</th>\n",
       "      <th>pixel779</th>\n",
       "      <th>pixel780</th>\n",
       "      <th>pixel781</th>\n",
       "      <th>pixel782</th>\n",
       "      <th>pixel783</th>\n",
       "    </tr>\n",
       "  </thead>\n",
       "  <tbody>\n",
       "    <tr>\n",
       "      <th>count</th>\n",
       "      <td>10000.00000</td>\n",
       "      <td>10000.0</td>\n",
       "      <td>10000.0</td>\n",
       "      <td>10000.0</td>\n",
       "      <td>10000.0</td>\n",
       "      <td>10000.0</td>\n",
       "      <td>10000.0</td>\n",
       "      <td>10000.0</td>\n",
       "      <td>10000.0</td>\n",
       "      <td>10000.000000</td>\n",
       "      <td>...</td>\n",
       "      <td>10000.000000</td>\n",
       "      <td>10000.000000</td>\n",
       "      <td>10000.0000</td>\n",
       "      <td>10000.0</td>\n",
       "      <td>10000.0</td>\n",
       "      <td>10000.0</td>\n",
       "      <td>10000.0</td>\n",
       "      <td>10000.0</td>\n",
       "      <td>10000.0</td>\n",
       "      <td>10000.0</td>\n",
       "    </tr>\n",
       "    <tr>\n",
       "      <th>mean</th>\n",
       "      <td>9945.83690</td>\n",
       "      <td>0.0</td>\n",
       "      <td>0.0</td>\n",
       "      <td>0.0</td>\n",
       "      <td>0.0</td>\n",
       "      <td>0.0</td>\n",
       "      <td>0.0</td>\n",
       "      <td>0.0</td>\n",
       "      <td>0.0</td>\n",
       "      <td>0.100800</td>\n",
       "      <td>...</td>\n",
       "      <td>0.018000</td>\n",
       "      <td>0.044300</td>\n",
       "      <td>0.0067</td>\n",
       "      <td>0.0</td>\n",
       "      <td>0.0</td>\n",
       "      <td>0.0</td>\n",
       "      <td>0.0</td>\n",
       "      <td>0.0</td>\n",
       "      <td>0.0</td>\n",
       "      <td>0.0</td>\n",
       "    </tr>\n",
       "    <tr>\n",
       "      <th>std</th>\n",
       "      <td>5787.98325</td>\n",
       "      <td>0.0</td>\n",
       "      <td>0.0</td>\n",
       "      <td>0.0</td>\n",
       "      <td>0.0</td>\n",
       "      <td>0.0</td>\n",
       "      <td>0.0</td>\n",
       "      <td>0.0</td>\n",
       "      <td>0.0</td>\n",
       "      <td>5.007429</td>\n",
       "      <td>...</td>\n",
       "      <td>1.277748</td>\n",
       "      <td>3.153019</td>\n",
       "      <td>0.6700</td>\n",
       "      <td>0.0</td>\n",
       "      <td>0.0</td>\n",
       "      <td>0.0</td>\n",
       "      <td>0.0</td>\n",
       "      <td>0.0</td>\n",
       "      <td>0.0</td>\n",
       "      <td>0.0</td>\n",
       "    </tr>\n",
       "    <tr>\n",
       "      <th>min</th>\n",
       "      <td>1.00000</td>\n",
       "      <td>0.0</td>\n",
       "      <td>0.0</td>\n",
       "      <td>0.0</td>\n",
       "      <td>0.0</td>\n",
       "      <td>0.0</td>\n",
       "      <td>0.0</td>\n",
       "      <td>0.0</td>\n",
       "      <td>0.0</td>\n",
       "      <td>0.000000</td>\n",
       "      <td>...</td>\n",
       "      <td>0.000000</td>\n",
       "      <td>0.000000</td>\n",
       "      <td>0.0000</td>\n",
       "      <td>0.0</td>\n",
       "      <td>0.0</td>\n",
       "      <td>0.0</td>\n",
       "      <td>0.0</td>\n",
       "      <td>0.0</td>\n",
       "      <td>0.0</td>\n",
       "      <td>0.0</td>\n",
       "    </tr>\n",
       "    <tr>\n",
       "      <th>25%</th>\n",
       "      <td>4895.00000</td>\n",
       "      <td>0.0</td>\n",
       "      <td>0.0</td>\n",
       "      <td>0.0</td>\n",
       "      <td>0.0</td>\n",
       "      <td>0.0</td>\n",
       "      <td>0.0</td>\n",
       "      <td>0.0</td>\n",
       "      <td>0.0</td>\n",
       "      <td>0.000000</td>\n",
       "      <td>...</td>\n",
       "      <td>0.000000</td>\n",
       "      <td>0.000000</td>\n",
       "      <td>0.0000</td>\n",
       "      <td>0.0</td>\n",
       "      <td>0.0</td>\n",
       "      <td>0.0</td>\n",
       "      <td>0.0</td>\n",
       "      <td>0.0</td>\n",
       "      <td>0.0</td>\n",
       "      <td>0.0</td>\n",
       "    </tr>\n",
       "    <tr>\n",
       "      <th>50%</th>\n",
       "      <td>9968.00000</td>\n",
       "      <td>0.0</td>\n",
       "      <td>0.0</td>\n",
       "      <td>0.0</td>\n",
       "      <td>0.0</td>\n",
       "      <td>0.0</td>\n",
       "      <td>0.0</td>\n",
       "      <td>0.0</td>\n",
       "      <td>0.0</td>\n",
       "      <td>0.000000</td>\n",
       "      <td>...</td>\n",
       "      <td>0.000000</td>\n",
       "      <td>0.000000</td>\n",
       "      <td>0.0000</td>\n",
       "      <td>0.0</td>\n",
       "      <td>0.0</td>\n",
       "      <td>0.0</td>\n",
       "      <td>0.0</td>\n",
       "      <td>0.0</td>\n",
       "      <td>0.0</td>\n",
       "      <td>0.0</td>\n",
       "    </tr>\n",
       "    <tr>\n",
       "      <th>75%</th>\n",
       "      <td>14933.00000</td>\n",
       "      <td>0.0</td>\n",
       "      <td>0.0</td>\n",
       "      <td>0.0</td>\n",
       "      <td>0.0</td>\n",
       "      <td>0.0</td>\n",
       "      <td>0.0</td>\n",
       "      <td>0.0</td>\n",
       "      <td>0.0</td>\n",
       "      <td>0.000000</td>\n",
       "      <td>...</td>\n",
       "      <td>0.000000</td>\n",
       "      <td>0.000000</td>\n",
       "      <td>0.0000</td>\n",
       "      <td>0.0</td>\n",
       "      <td>0.0</td>\n",
       "      <td>0.0</td>\n",
       "      <td>0.0</td>\n",
       "      <td>0.0</td>\n",
       "      <td>0.0</td>\n",
       "      <td>0.0</td>\n",
       "    </tr>\n",
       "    <tr>\n",
       "      <th>max</th>\n",
       "      <td>19996.00000</td>\n",
       "      <td>0.0</td>\n",
       "      <td>0.0</td>\n",
       "      <td>0.0</td>\n",
       "      <td>0.0</td>\n",
       "      <td>0.0</td>\n",
       "      <td>0.0</td>\n",
       "      <td>0.0</td>\n",
       "      <td>0.0</td>\n",
       "      <td>255.000000</td>\n",
       "      <td>...</td>\n",
       "      <td>98.000000</td>\n",
       "      <td>247.000000</td>\n",
       "      <td>67.0000</td>\n",
       "      <td>0.0</td>\n",
       "      <td>0.0</td>\n",
       "      <td>0.0</td>\n",
       "      <td>0.0</td>\n",
       "      <td>0.0</td>\n",
       "      <td>0.0</td>\n",
       "      <td>0.0</td>\n",
       "    </tr>\n",
       "  </tbody>\n",
       "</table>\n",
       "<p>8 rows × 785 columns</p>\n",
       "</div>"
      ],
      "text/plain": [
       "                ID   pixel0   pixel1   pixel2   pixel3   pixel4   pixel5  \\\n",
       "count  10000.00000  10000.0  10000.0  10000.0  10000.0  10000.0  10000.0   \n",
       "mean    9945.83690      0.0      0.0      0.0      0.0      0.0      0.0   \n",
       "std     5787.98325      0.0      0.0      0.0      0.0      0.0      0.0   \n",
       "min        1.00000      0.0      0.0      0.0      0.0      0.0      0.0   \n",
       "25%     4895.00000      0.0      0.0      0.0      0.0      0.0      0.0   \n",
       "50%     9968.00000      0.0      0.0      0.0      0.0      0.0      0.0   \n",
       "75%    14933.00000      0.0      0.0      0.0      0.0      0.0      0.0   \n",
       "max    19996.00000      0.0      0.0      0.0      0.0      0.0      0.0   \n",
       "\n",
       "        pixel6   pixel7        pixel8  ...      pixel774      pixel775  \\\n",
       "count  10000.0  10000.0  10000.000000  ...  10000.000000  10000.000000   \n",
       "mean       0.0      0.0      0.100800  ...      0.018000      0.044300   \n",
       "std        0.0      0.0      5.007429  ...      1.277748      3.153019   \n",
       "min        0.0      0.0      0.000000  ...      0.000000      0.000000   \n",
       "25%        0.0      0.0      0.000000  ...      0.000000      0.000000   \n",
       "50%        0.0      0.0      0.000000  ...      0.000000      0.000000   \n",
       "75%        0.0      0.0      0.000000  ...      0.000000      0.000000   \n",
       "max        0.0      0.0    255.000000  ...     98.000000    247.000000   \n",
       "\n",
       "         pixel776  pixel777  pixel778  pixel779  pixel780  pixel781  pixel782  \\\n",
       "count  10000.0000   10000.0   10000.0   10000.0   10000.0   10000.0   10000.0   \n",
       "mean       0.0067       0.0       0.0       0.0       0.0       0.0       0.0   \n",
       "std        0.6700       0.0       0.0       0.0       0.0       0.0       0.0   \n",
       "min        0.0000       0.0       0.0       0.0       0.0       0.0       0.0   \n",
       "25%        0.0000       0.0       0.0       0.0       0.0       0.0       0.0   \n",
       "50%        0.0000       0.0       0.0       0.0       0.0       0.0       0.0   \n",
       "75%        0.0000       0.0       0.0       0.0       0.0       0.0       0.0   \n",
       "max       67.0000       0.0       0.0       0.0       0.0       0.0       0.0   \n",
       "\n",
       "       pixel783  \n",
       "count   10000.0  \n",
       "mean        0.0  \n",
       "std         0.0  \n",
       "min         0.0  \n",
       "25%         0.0  \n",
       "50%         0.0  \n",
       "75%         0.0  \n",
       "max         0.0  \n",
       "\n",
       "[8 rows x 785 columns]"
      ]
     },
     "execution_count": 7,
     "metadata": {},
     "output_type": "execute_result"
    }
   ],
   "source": [
    "## Reading test data\n",
    "df_test=pd.read_csv('Classification_test.csv')\n",
    "arr_test=df_test.to_numpy()\n",
    "print(f\"data_train.shape: {arr_test.shape}\")\n",
    "df_test.describe()"
   ]
  },
  {
   "cell_type": "code",
   "execution_count": null,
   "id": "190bf38e-a48a-4299-9b83-b852a67c1b61",
   "metadata": {},
   "outputs": [],
   "source": []
  },
  {
   "cell_type": "code",
   "execution_count": 8,
   "id": "53d9952a-b26a-4c9e-bd9e-e642d41a688b",
   "metadata": {},
   "outputs": [
    {
     "name": "stdout",
     "output_type": "stream",
     "text": [
      "(30000, 784)\n",
      "[[0 0 0 ... 0 0 0]\n",
      " [0 0 0 ... 0 0 0]\n",
      " [0 0 0 ... 0 0 0]\n",
      " ...\n",
      " [0 0 0 ... 0 0 0]\n",
      " [0 0 0 ... 0 0 0]\n",
      " [0 0 0 ... 0 0 0]]\n",
      "(30000,)\n",
      "[0 8 1 ... 9 3 9]\n",
      "(30000, 10)\n",
      "[[1. 0. 0. ... 0. 0. 0.]\n",
      " [0. 0. 0. ... 0. 1. 0.]\n",
      " [0. 1. 0. ... 0. 0. 0.]\n",
      " ...\n",
      " [0. 0. 0. ... 0. 0. 1.]\n",
      " [0. 0. 0. ... 0. 0. 0.]\n",
      " [0. 0. 0. ... 0. 0. 1.]]\n"
     ]
    }
   ],
   "source": [
    "## Forming Input and Output labels of training set\n",
    "x_train=arr_train[:,1:]\n",
    "print(x_train.shape)\n",
    "print(x_train)\n",
    "\n",
    "y_train=arr_train[:,0]\n",
    "print(y_train.shape)\n",
    "print(y_train)\n",
    "y_log=np.zeros((30000,10))\n",
    "for i in range(30000):\n",
    "    y_log[i,y_train[i]]=1\n",
    "print(y_log.shape)    \n",
    "print(y_log)    "
   ]
  },
  {
   "cell_type": "code",
   "execution_count": 9,
   "id": "0a3b0e95-e4ba-48cc-b6eb-b743f1ee78eb",
   "metadata": {},
   "outputs": [
    {
     "name": "stdout",
     "output_type": "stream",
     "text": [
      "(10000, 784)\n",
      "[[0 0 0 ... 0 0 0]\n",
      " [0 0 0 ... 0 0 0]\n",
      " [0 0 0 ... 0 0 0]\n",
      " ...\n",
      " [0 0 0 ... 0 0 0]\n",
      " [0 0 0 ... 0 0 0]\n",
      " [0 0 0 ... 0 0 0]]\n",
      "(10000,)\n",
      "[15795   860  5390 ...   634 10057 13345]\n",
      "(10000, 20000)\n",
      "[[0. 0. 0. ... 0. 0. 0.]\n",
      " [0. 0. 0. ... 0. 0. 0.]\n",
      " [0. 0. 0. ... 0. 0. 0.]\n",
      " ...\n",
      " [0. 0. 0. ... 0. 0. 0.]\n",
      " [0. 0. 0. ... 0. 0. 0.]\n",
      " [0. 0. 0. ... 0. 0. 0.]]\n"
     ]
    }
   ],
   "source": [
    "## Forming Input and Output labels of test set\n",
    "x_test=arr_test[:,1:]\n",
    "print(x_test.shape)\n",
    "print(x_test)\n",
    "\n",
    "y_test=arr_test[:,0]\n",
    "print(y_test.shape)\n",
    "print(y_test)\n",
    "y_logtest=np.zeros((10000,20000))\n",
    "for i in range(10000):\n",
    "    y_logtest[i,y_test[i]]=1\n",
    "print(y_logtest.shape)    \n",
    "print(y_logtest)  "
   ]
  },
  {
   "cell_type": "code",
   "execution_count": 10,
   "id": "17493a13-e558-44fa-9226-0bf8065bcba8",
   "metadata": {},
   "outputs": [],
   "source": [
    "def sigmoid(x):\n",
    "    return 1/(1+np.exp(-x))  "
   ]
  },
  {
   "cell_type": "code",
   "execution_count": 11,
   "id": "517703aa-43d5-4448-be80-e5822ec04b04",
   "metadata": {},
   "outputs": [],
   "source": [
    "def logistic(x,w,b):\n",
    "    m=x.shape[0]\n",
    "    y=sigmoid(np.matmul(x,w)+b)\n",
    "    return y"
   ]
  },
  {
   "cell_type": "code",
   "execution_count": 12,
   "id": "97189034-38cf-40e5-a528-0e43865f25d4",
   "metadata": {},
   "outputs": [],
   "source": [
    "def cost(x,y,w,b):\n",
    "    m=x.shape[0]\n",
    "    y_predicted=logistic(x,w,b)\n",
    "    loss=((y*np.log(y_predicted))+(1-y)*np.log(1-y_predicted))\n",
    "    cost=np.sum(loss,axis=0)\n",
    "    cost/=-m\n",
    "    return cost"
   ]
  },
  {
   "cell_type": "code",
   "execution_count": 13,
   "id": "1a118e60-9770-409e-ab07-df765a914be3",
   "metadata": {},
   "outputs": [
    {
     "name": "stdout",
     "output_type": "stream",
     "text": [
      "0.6931471805599454\n"
     ]
    }
   ],
   "source": [
    "w_=np.zeros(784)\n",
    "b_=0\n",
    "print(cost(x_train,y_train,w_,b_))"
   ]
  },
  {
   "cell_type": "code",
   "execution_count": 14,
   "id": "6b9559ab-2ae4-4c12-b658-e42963f958af",
   "metadata": {},
   "outputs": [],
   "source": [
    "def gradient(x,y,w,b):\n",
    "    m=x.shape[0]\n",
    "    dJ_dw=np.zeros(w.shape)\n",
    "    dJ_db=np.zeros(b.shape)\n",
    "    y_predicted=logistic(x,w,b)\n",
    "    loss=y_predicted-y\n",
    "    dJ_dw=(1/m)*(np.matmul(x.T,loss))\n",
    "    dJ_db=(1/m)*(np.sum(loss,axis=0))\n",
    "    return dJ_dw,dJ_db"
   ]
  },
  {
   "cell_type": "code",
   "execution_count": 15,
   "id": "f242c8dd-ab69-42a3-9a40-a1481c321ae1",
   "metadata": {},
   "outputs": [],
   "source": [
    "def gradient_decent(x,y,w,b,alpha,iterations_n):\n",
    "    for i in range(iterations_n):\n",
    "        dJ_dw,dJ_db=gradient(x,y,w,b)\n",
    "        w-=alpha*dJ_dw\n",
    "        b-=alpha*dJ_db\n",
    "    return w,b        "
   ]
  },
  {
   "cell_type": "code",
   "execution_count": 16,
   "id": "a7fd3050-0dc4-43ef-b999-69dec63697ad",
   "metadata": {},
   "outputs": [],
   "source": [
    "def prob_check(y_pred,y):\n",
    "    return((np.sum(y_pred==y))/y_pred.shape*100)\n",
    "        "
   ]
  },
  {
   "cell_type": "code",
   "execution_count": 17,
   "id": "ca759092-3366-4b46-9dab-e8be3cb612a2",
   "metadata": {},
   "outputs": [
    {
     "name": "stderr",
     "output_type": "stream",
     "text": [
      "/var/folders/bn/pxfj4spn4ngcxsmkcndws_wm0000gp/T/ipykernel_4733/2219142286.py:2: RuntimeWarning: overflow encountered in exp\n",
      "  return 1/(1+np.exp(-x))\n"
     ]
    }
   ],
   "source": [
    "w1=np.zeros((784,10))\n",
    "b1=np.zeros(10)\n",
    "w2,b2=gradient_decent(x_train,y_log,w1,b1,0.01,1000)"
   ]
  },
  {
   "cell_type": "code",
   "execution_count": 18,
   "id": "eece73e1-36f9-4b35-b456-e73bc3ccafd3",
   "metadata": {
    "scrolled": true
   },
   "outputs": [
    {
     "name": "stdout",
     "output_type": "stream",
     "text": [
      "[[9.98494935e-001 6.69575211e-103 2.46361662e-127 ... 4.68354814e-205\n",
      "  3.19562795e-110 6.60220319e-099]\n",
      " [5.77887460e-231 1.76247925e-034 2.04692556e-157 ... 0.00000000e+000\n",
      "  1.00000000e+000 1.98467253e-275]\n",
      " [2.23277311e-280 1.00000000e+000 0.00000000e+000 ... 0.00000000e+000\n",
      "  1.77081105e-123 3.50210806e-237]\n",
      " ...\n",
      " [0.00000000e+000 1.55889059e-211 4.21666055e-192 ... 0.00000000e+000\n",
      "  2.63881309e-155 1.00000000e+000]\n",
      " [0.00000000e+000 2.38199376e-210 1.43028280e-168 ... 2.16249855e-276\n",
      "  2.99290570e-194 8.23195049e-142]\n",
      " [0.00000000e+000 8.66039405e-180 7.25003254e-199 ... 0.00000000e+000\n",
      "  2.41427393e-076 9.99999867e-001]]\n"
     ]
    },
    {
     "name": "stderr",
     "output_type": "stream",
     "text": [
      "/var/folders/bn/pxfj4spn4ngcxsmkcndws_wm0000gp/T/ipykernel_4733/2219142286.py:2: RuntimeWarning: overflow encountered in exp\n",
      "  return 1/(1+np.exp(-x))\n"
     ]
    }
   ],
   "source": [
    "y_predicted=logistic(x_train,w2,b2)\n",
    "print(y_predicted)"
   ]
  },
  {
   "cell_type": "code",
   "execution_count": 19,
   "id": "081e0e6e-96a4-4dca-988f-4d10bc9881b2",
   "metadata": {},
   "outputs": [
    {
     "name": "stdout",
     "output_type": "stream",
     "text": [
      "[0. 8. 1. ... 9. 3. 5.]\n"
     ]
    }
   ],
   "source": [
    "y_check=np.zeros(30000)\n",
    "for i in range(30000):\n",
    "    y_check[i]=np.argmax(y_predicted[i])\n",
    "print (y_check) "
   ]
  },
  {
   "cell_type": "code",
   "execution_count": 20,
   "id": "ecc37206-6f9a-47c2-ac28-84b23b03a904",
   "metadata": {},
   "outputs": [
    {
     "data": {
      "text/plain": [
       "array([96.08666667])"
      ]
     },
     "execution_count": 20,
     "metadata": {},
     "output_type": "execute_result"
    }
   ],
   "source": [
    "prob_check(y_check,y_train)"
   ]
  },
  {
   "cell_type": "code",
   "execution_count": 21,
   "id": "b9224bc8-7dc5-49b4-85f8-8f31ba2bb07e",
   "metadata": {},
   "outputs": [
    {
     "name": "stdout",
     "output_type": "stream",
     "text": [
      "(21000, 784)\n",
      "[[0 0 0 ... 0 0 0]\n",
      " [0 0 0 ... 0 0 0]\n",
      " [0 0 0 ... 0 0 0]\n",
      " ...\n",
      " [0 0 0 ... 0 0 0]\n",
      " [0 0 0 ... 0 0 0]\n",
      " [0 0 0 ... 0 0 0]]\n",
      "(21000,)\n",
      "[0 8 1 ... 7 3 0]\n",
      "(21000, 10)\n",
      "[[0. 0. 0. ... 0. 0. 0.]\n",
      " [0. 0. 0. ... 0. 0. 0.]\n",
      " [0. 0. 0. ... 0. 0. 0.]\n",
      " ...\n",
      " [0. 0. 0. ... 0. 0. 0.]\n",
      " [0. 0. 0. ... 0. 0. 0.]\n",
      " [0. 0. 0. ... 0. 0. 0.]]\n"
     ]
    }
   ],
   "source": [
    "x_train1=x_train[:21000,:]\n",
    "print(x_train1.shape)\n",
    "print(x_train1)\n",
    "y_train1=y_train[:21000]\n",
    "print(y_train1.shape)\n",
    "print(y_train1)\n",
    "y_logtest=np.zeros((21000,10))\n",
    "for i in range(21000):\n",
    "    y_log[i,y_train1[i]]=1\n",
    "print(y_logtest.shape)    \n",
    "print(y_logtest) "
   ]
  },
  {
   "cell_type": "code",
   "execution_count": 22,
   "id": "bd95820b-1383-42f1-8390-4a6b514b6ba4",
   "metadata": {},
   "outputs": [
    {
     "name": "stderr",
     "output_type": "stream",
     "text": [
      "/var/folders/bn/pxfj4spn4ngcxsmkcndws_wm0000gp/T/ipykernel_4733/2219142286.py:2: RuntimeWarning: overflow encountered in exp\n",
      "  return 1/(1+np.exp(-x))\n"
     ]
    }
   ],
   "source": [
    "w1=np.zeros((784,10))\n",
    "b1=np.zeros(10)\n",
    "w2,b2=gradient_decent(x_train,y_log,w1,b1,0.01,1000)"
   ]
  },
  {
   "cell_type": "code",
   "execution_count": 23,
   "id": "20978a8e-2afe-4343-b15f-8d4759912401",
   "metadata": {},
   "outputs": [
    {
     "name": "stdout",
     "output_type": "stream",
     "text": [
      "(9000, 784)\n",
      "[[0 0 0 ... 0 0 0]\n",
      " [0 0 0 ... 0 0 0]\n",
      " [0 0 0 ... 0 0 0]\n",
      " ...\n",
      " [0 0 0 ... 0 0 0]\n",
      " [0 0 0 ... 0 0 0]\n",
      " [0 0 0 ... 0 0 0]]\n",
      "(9000,)\n",
      "[4 8 9 ... 9 3 9]\n"
     ]
    }
   ],
   "source": [
    "x_cv=x_train[21000:30000,:]\n",
    "print(x_cv.shape)\n",
    "print(x_cv)\n",
    "y_cv=y_train[21000:30000]\n",
    "print(y_cv.shape)\n",
    "print(y_cv)"
   ]
  },
  {
   "cell_type": "code",
   "execution_count": 24,
   "id": "bcb8272a-8337-412d-a293-c15b01ba947b",
   "metadata": {},
   "outputs": [
    {
     "name": "stdout",
     "output_type": "stream",
     "text": [
      "[[0.00000000e+000 0.00000000e+000 0.00000000e+000 ... 0.00000000e+000\n",
      "  6.32679925e-074 4.78303121e-010]\n",
      " [3.50920436e-277 2.85306273e-226 0.00000000e+000 ... 0.00000000e+000\n",
      "  1.00000000e+000 1.88074063e-210]\n",
      " [4.70936633e-159 1.44272095e-238 4.44422058e-280 ... 0.00000000e+000\n",
      "  8.33924953e-171 1.00000000e+000]\n",
      " ...\n",
      " [0.00000000e+000 1.55889059e-211 4.21666055e-192 ... 0.00000000e+000\n",
      "  2.63881309e-155 1.00000000e+000]\n",
      " [0.00000000e+000 2.38199376e-210 1.43028280e-168 ... 2.16249855e-276\n",
      "  2.99290570e-194 8.23195049e-142]\n",
      " [0.00000000e+000 8.66039405e-180 7.25003254e-199 ... 0.00000000e+000\n",
      "  2.41427393e-076 9.99999867e-001]]\n"
     ]
    },
    {
     "name": "stderr",
     "output_type": "stream",
     "text": [
      "/var/folders/bn/pxfj4spn4ngcxsmkcndws_wm0000gp/T/ipykernel_4733/2219142286.py:2: RuntimeWarning: overflow encountered in exp\n",
      "  return 1/(1+np.exp(-x))\n"
     ]
    }
   ],
   "source": [
    "y_predicted_cv=logistic(x_cv,w2,b2)\n",
    "print(y_predicted_cv)"
   ]
  },
  {
   "cell_type": "code",
   "execution_count": 25,
   "id": "6fa87442-e31a-43aa-a030-fc7e3ad614ee",
   "metadata": {},
   "outputs": [
    {
     "name": "stdout",
     "output_type": "stream",
     "text": [
      "[4. 8. 9. ... 9. 3. 5.]\n"
     ]
    }
   ],
   "source": [
    "y_check_test=np.zeros(9000)\n",
    "for i in range(9000):\n",
    "    y_check_test[i]=np.argmax(y_predicted_cv[i])\n",
    "print (y_check_test) "
   ]
  },
  {
   "cell_type": "code",
   "execution_count": 26,
   "id": "1d699498-415a-456f-864e-c4a13203ff78",
   "metadata": {},
   "outputs": [
    {
     "data": {
      "text/plain": [
       "array([96.13333333])"
      ]
     },
     "execution_count": 26,
     "metadata": {},
     "output_type": "execute_result"
    }
   ],
   "source": [
    "prob_check(y_check_test,y_cv)"
   ]
  },
  {
   "cell_type": "code",
   "execution_count": 27,
   "id": "45c79b10-aabc-4c45-a082-6137d400f8d6",
   "metadata": {},
   "outputs": [
    {
     "name": "stdout",
     "output_type": "stream",
     "text": [
      "[0. 4. 5. ... 0. 8. 2.]\n",
      "Array has been saved to Logistic_Predicted.csv\n"
     ]
    },
    {
     "name": "stderr",
     "output_type": "stream",
     "text": [
      "/var/folders/bn/pxfj4spn4ngcxsmkcndws_wm0000gp/T/ipykernel_4733/2219142286.py:2: RuntimeWarning: overflow encountered in exp\n",
      "  return 1/(1+np.exp(-x))\n"
     ]
    }
   ],
   "source": [
    "y_predicted_test=logistic(x_test,w2,b2)\n",
    "y_pred_test=np.zeros(10000)\n",
    "for i in range(10000):\n",
    "    y_pred_test[i]=np.argmax(y_predicted_test[i])\n",
    "print (y_pred_test) \n",
    "csv_file_path = 'Logistic_Predicted.csv'\n",
    "np.savetxt(csv_file_path, y_pred_test, delimiter=',')\n",
    "print(f\"Array has been saved to {csv_file_path}\")"
   ]
  },
  {
   "cell_type": "code",
   "execution_count": null,
   "id": "c9209545-c128-43df-a6ab-eb8a8d6349e4",
   "metadata": {},
   "outputs": [],
   "source": []
  }
 ],
 "metadata": {
  "kernelspec": {
   "display_name": "Python 3 (ipykernel)",
   "language": "python",
   "name": "python3"
  },
  "language_info": {
   "codemirror_mode": {
    "name": "ipython",
    "version": 3
   },
   "file_extension": ".py",
   "mimetype": "text/x-python",
   "name": "python",
   "nbconvert_exporter": "python",
   "pygments_lexer": "ipython3",
   "version": "3.12.0"
  }
 },
 "nbformat": 4,
 "nbformat_minor": 5
}
